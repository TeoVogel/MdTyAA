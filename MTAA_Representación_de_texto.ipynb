{
  "nbformat": 4,
  "nbformat_minor": 0,
  "metadata": {
    "colab": {
      "provenance": [],
      "include_colab_link": true
    },
    "kernelspec": {
      "name": "python3",
      "display_name": "Python 3"
    }
  },
  "cells": [
    {
      "cell_type": "markdown",
      "metadata": {
        "id": "view-in-github",
        "colab_type": "text"
      },
      "source": [
        "<a href=\"https://colab.research.google.com/github/TeoVogel/MdTyAA/blob/main/MTAA_Representaci%C3%B3n_de_texto.ipynb\" target=\"_parent\"><img src=\"https://colab.research.google.com/assets/colab-badge.svg\" alt=\"Open In Colab\"/></a>"
      ]
    },
    {
      "cell_type": "markdown",
      "source": [
        "# Representación de Texto y Recuperación de Texto\n",
        "\n",
        "En esta notebook usaremos [NLTK](https://www.nltk.org/) (Natural Language Toolkit), una plataforma que ofrece varias bibliotecas y recursos para el procesamiento de texto.\n",
        "\n",
        "![0_zKRz1UgqpOZ4bvuA.png](data:image/png;base64,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)\n",
        "\n",
        "En primer lugar importamos algunas bibliotecas útiles y descargamos algunos corpus y paquetes populares de nltk."
      ],
      "metadata": {
        "id": "PpCiJ65ovaCC"
      }
    },
    {
      "cell_type": "code",
      "metadata": {
        "id": "g9H1BxJ-JXI3",
        "colab": {
          "base_uri": "https://localhost:8080/"
        },
        "outputId": "141b0f7d-f25c-4dd7-cb0e-af8b0eb3dbbe"
      },
      "source": [
        "import nltk\n",
        "import string\n",
        "import math\n",
        "import numpy\n",
        "import matplotlib\n",
        "\n",
        "nltk.download('popular')"
      ],
      "execution_count": null,
      "outputs": [
        {
          "output_type": "stream",
          "name": "stderr",
          "text": [
            "[nltk_data] Downloading collection 'popular'\n",
            "[nltk_data]    | \n",
            "[nltk_data]    | Downloading package cmudict to /root/nltk_data...\n",
            "[nltk_data]    |   Package cmudict is already up-to-date!\n",
            "[nltk_data]    | Downloading package gazetteers to /root/nltk_data...\n",
            "[nltk_data]    |   Package gazetteers is already up-to-date!\n",
            "[nltk_data]    | Downloading package genesis to /root/nltk_data...\n",
            "[nltk_data]    |   Package genesis is already up-to-date!\n",
            "[nltk_data]    | Downloading package gutenberg to /root/nltk_data...\n",
            "[nltk_data]    |   Package gutenberg is already up-to-date!\n",
            "[nltk_data]    | Downloading package inaugural to /root/nltk_data...\n",
            "[nltk_data]    |   Package inaugural is already up-to-date!\n",
            "[nltk_data]    | Downloading package movie_reviews to\n",
            "[nltk_data]    |     /root/nltk_data...\n",
            "[nltk_data]    |   Package movie_reviews is already up-to-date!\n",
            "[nltk_data]    | Downloading package names to /root/nltk_data...\n",
            "[nltk_data]    |   Package names is already up-to-date!\n",
            "[nltk_data]    | Downloading package shakespeare to /root/nltk_data...\n",
            "[nltk_data]    |   Package shakespeare is already up-to-date!\n",
            "[nltk_data]    | Downloading package stopwords to /root/nltk_data...\n",
            "[nltk_data]    |   Package stopwords is already up-to-date!\n",
            "[nltk_data]    | Downloading package treebank to /root/nltk_data...\n",
            "[nltk_data]    |   Package treebank is already up-to-date!\n",
            "[nltk_data]    | Downloading package twitter_samples to\n",
            "[nltk_data]    |     /root/nltk_data...\n",
            "[nltk_data]    |   Package twitter_samples is already up-to-date!\n",
            "[nltk_data]    | Downloading package omw to /root/nltk_data...\n",
            "[nltk_data]    |   Package omw is already up-to-date!\n",
            "[nltk_data]    | Downloading package omw-1.4 to /root/nltk_data...\n",
            "[nltk_data]    |   Package omw-1.4 is already up-to-date!\n",
            "[nltk_data]    | Downloading package wordnet to /root/nltk_data...\n",
            "[nltk_data]    |   Package wordnet is already up-to-date!\n",
            "[nltk_data]    | Downloading package wordnet2021 to /root/nltk_data...\n",
            "[nltk_data]    |   Package wordnet2021 is already up-to-date!\n",
            "[nltk_data]    | Downloading package wordnet31 to /root/nltk_data...\n",
            "[nltk_data]    |   Package wordnet31 is already up-to-date!\n",
            "[nltk_data]    | Downloading package wordnet_ic to /root/nltk_data...\n",
            "[nltk_data]    |   Package wordnet_ic is already up-to-date!\n",
            "[nltk_data]    | Downloading package words to /root/nltk_data...\n",
            "[nltk_data]    |   Package words is already up-to-date!\n",
            "[nltk_data]    | Downloading package maxent_ne_chunker to\n",
            "[nltk_data]    |     /root/nltk_data...\n",
            "[nltk_data]    |   Package maxent_ne_chunker is already up-to-date!\n",
            "[nltk_data]    | Downloading package punkt to /root/nltk_data...\n",
            "[nltk_data]    |   Package punkt is already up-to-date!\n",
            "[nltk_data]    | Downloading package snowball_data to\n",
            "[nltk_data]    |     /root/nltk_data...\n",
            "[nltk_data]    |   Package snowball_data is already up-to-date!\n",
            "[nltk_data]    | Downloading package averaged_perceptron_tagger to\n",
            "[nltk_data]    |     /root/nltk_data...\n",
            "[nltk_data]    |   Package averaged_perceptron_tagger is already up-\n",
            "[nltk_data]    |       to-date!\n",
            "[nltk_data]    | \n",
            "[nltk_data]  Done downloading collection popular\n"
          ]
        },
        {
          "output_type": "execute_result",
          "data": {
            "text/plain": [
              "True"
            ]
          },
          "metadata": {},
          "execution_count": 5
        }
      ]
    },
    {
      "cell_type": "markdown",
      "source": [
        "\n",
        "\n",
        "# Ejemplo 1\n",
        "\n",
        "Obtener una lista de palabras clave a partir de un texto.\n",
        "\n",
        "Usaremos el siguiente texto:\n",
        "\n",
        "*Iran has moved to stop UN inspections of its nuclear sites and step up uranium enrichment under a new law approved by its parliament.*\n",
        "\n"
      ],
      "metadata": {
        "id": "5g154t8pMKet"
      }
    },
    {
      "cell_type": "code",
      "source": [
        "sentence = \"Iran has moved to stop UN inspections of its nuclear sites and step up uranium enrichment under a new law approved by its parliament.\""
      ],
      "metadata": {
        "id": "tYLCt8aPMQEh"
      },
      "execution_count": null,
      "outputs": []
    },
    {
      "cell_type": "markdown",
      "metadata": {
        "id": "-FVqE79lM5FZ"
      },
      "source": [
        "Separamos el texto en tokens y los representamos en minúscula."
      ]
    },
    {
      "cell_type": "code",
      "metadata": {
        "id": "XjaiegV9lvwM",
        "colab": {
          "base_uri": "https://localhost:8080/"
        },
        "outputId": "8b5a3db7-1fd5-414b-f42d-c87f6a1a1e2e"
      },
      "source": [
        "tokens_lowercase = [word.lower() for word in nltk.word_tokenize(sentence)]\n",
        "tokens_lowercase"
      ],
      "execution_count": null,
      "outputs": [
        {
          "output_type": "execute_result",
          "data": {
            "text/plain": [
              "['iran',\n",
              " 'has',\n",
              " 'moved',\n",
              " 'to',\n",
              " 'stop',\n",
              " 'un',\n",
              " 'inspections',\n",
              " 'of',\n",
              " 'its',\n",
              " 'nuclear',\n",
              " 'sites',\n",
              " 'and',\n",
              " 'step',\n",
              " 'up',\n",
              " 'uranium',\n",
              " 'enrichment',\n",
              " 'under',\n",
              " 'a',\n",
              " 'new',\n",
              " 'law',\n",
              " 'approved',\n",
              " 'by',\n",
              " 'its',\n",
              " 'parliament',\n",
              " '.']"
            ]
          },
          "metadata": {},
          "execution_count": 7
        }
      ]
    },
    {
      "cell_type": "markdown",
      "metadata": {
        "id": "JFcI41mhNjuf"
      },
      "source": [
        "Seleccionamos una lista de \"stopwords\" y un \"stemmer\"."
      ]
    },
    {
      "cell_type": "code",
      "metadata": {
        "id": "2yH7jkCLNgxZ"
      },
      "source": [
        "stopwords = nltk.corpus.stopwords.words('english')\n",
        "stemmer = nltk.stem.PorterStemmer()"
      ],
      "execution_count": null,
      "outputs": []
    },
    {
      "cell_type": "markdown",
      "metadata": {
        "id": "cAGuAVhdOEnZ"
      },
      "source": [
        "Tomamos la lista de tokens y eliminamos los símbolos de puntación, las stopwords y transformamos a cada token en su correpondiente stem. El resultado es una lista de términos."
      ]
    },
    {
      "cell_type": "code",
      "metadata": {
        "id": "rCtZ1V26syan",
        "colab": {
          "base_uri": "https://localhost:8080/"
        },
        "outputId": "11564184-58d4-430e-a623-74af2e7c42c7"
      },
      "source": [
        "stems =[]\n",
        "for token in tokens_lowercase:\n",
        "  # Process each token\n",
        "  if token not in string.punctuation:\n",
        "    if token not in stopwords:\n",
        "      token = stemmer.stem(token)\n",
        "      stems.append(token)\n",
        "print(stems)"
      ],
      "execution_count": null,
      "outputs": [
        {
          "output_type": "stream",
          "name": "stdout",
          "text": [
            "['iran', 'move', 'stop', 'un', 'inspect', 'nuclear', 'site', 'step', 'uranium', 'enrich', 'new', 'law', 'approv', 'parliament']\n"
          ]
        }
      ]
    },
    {
      "cell_type": "code",
      "metadata": {
        "id": "wOJMAiQ7GNqY",
        "colab": {
          "base_uri": "https://localhost:8080/"
        },
        "outputId": "aacec24c-2519-4e5d-9afc-535a42e31606"
      },
      "source": [
        "from nltk.stem import WordNetLemmatizer\n",
        "lemmatizer = WordNetLemmatizer()\n",
        "lemmas =[]\n",
        "for token in tokens_lowercase:\n",
        "  # Process each token\n",
        "  if token not in string.punctuation:\n",
        "    if token not in stopwords:\n",
        "      lemma = lemmatizer.lemmatize(token)\n",
        "      lemmas.append(lemma)\n",
        "print(lemmas)"
      ],
      "execution_count": null,
      "outputs": [
        {
          "output_type": "stream",
          "name": "stdout",
          "text": [
            "['iran', 'moved', 'stop', 'un', 'inspection', 'nuclear', 'site', 'step', 'uranium', 'enrichment', 'new', 'law', 'approved', 'parliament']\n"
          ]
        }
      ]
    },
    {
      "cell_type": "markdown",
      "source": [
        "Comparemos los stems y lemas para cada token, donde los lemas se obtiene a partir de la biblioteca nltk apoyada en WordNetLemmatizer:"
      ],
      "metadata": {
        "id": "1k8BKW113Ztj"
      }
    },
    {
      "cell_type": "code",
      "source": [
        "for token in nltk.word_tokenize(sentence):\n",
        "    print(token + \" \" +  stemmer.stem(token) + \"  \" + lemmatizer.lemmatize(token))"
      ],
      "metadata": {
        "id": "TuEJBFfQ2BIq",
        "colab": {
          "base_uri": "https://localhost:8080/"
        },
        "outputId": "b73c741f-7a68-4811-ecc4-1311b23255da"
      },
      "execution_count": null,
      "outputs": [
        {
          "output_type": "stream",
          "name": "stdout",
          "text": [
            "Iran iran  Iran\n",
            "has ha  ha\n",
            "moved move  moved\n",
            "to to  to\n",
            "stop stop  stop\n",
            "UN un  UN\n",
            "inspections inspect  inspection\n",
            "of of  of\n",
            "its it  it\n",
            "nuclear nuclear  nuclear\n",
            "sites site  site\n",
            "and and  and\n",
            "step step  step\n",
            "up up  up\n",
            "uranium uranium  uranium\n",
            "enrichment enrich  enrichment\n",
            "under under  under\n",
            "a a  a\n",
            "new new  new\n",
            "law law  law\n",
            "approved approv  approved\n",
            "by by  by\n",
            "its it  it\n",
            "parliament parliament  parliament\n",
            ". .  .\n"
          ]
        }
      ]
    },
    {
      "cell_type": "markdown",
      "source": [
        "Estos son los lemas que devuelve SpaCy (otra plataforma popular para el procesamiento de texto) utilizando el recurso en_core_web_sm:"
      ],
      "metadata": {
        "id": "4lWlcnyG3zb5"
      }
    },
    {
      "cell_type": "code",
      "source": [
        "import spacy\n",
        "import en_core_web_sm\n",
        "nlp = en_core_web_sm.load()\n",
        "doc = nlp(sentence)\n",
        "for token in doc:\n",
        "    print(token.lemma_)"
      ],
      "metadata": {
        "id": "670i80320Xce",
        "colab": {
          "base_uri": "https://localhost:8080/"
        },
        "outputId": "3624ca4a-8f3a-4ba2-e663-05c93614c903"
      },
      "execution_count": null,
      "outputs": [
        {
          "output_type": "stream",
          "name": "stdout",
          "text": [
            "Iran\n",
            "have\n",
            "move\n",
            "to\n",
            "stop\n",
            "UN\n",
            "inspection\n",
            "of\n",
            "its\n",
            "nuclear\n",
            "site\n",
            "and\n",
            "step\n",
            "up\n",
            "uranium\n",
            "enrichment\n",
            "under\n",
            "a\n",
            "new\n",
            "law\n",
            "approve\n",
            "by\n",
            "its\n",
            "parliament\n",
            ".\n"
          ]
        }
      ]
    },
    {
      "cell_type": "markdown",
      "source": [
        "---\n",
        "# Ejercicio\n",
        "Aplicar los pasos de arriba en las siguientes oraciónes:\n",
        "\n",
        "**Oración 1:** To be or not to be.\n",
        "\n",
        "**Oración 2:** Common words like its, an, the, for, and that, are all considered stop words. While they're important for communicating verbally, stop words typically carry little importance to SEO and are often ignored by search engines.\n",
        "\n"
      ],
      "metadata": {
        "id": "AWqxkWS1fQLq"
      }
    },
    {
      "cell_type": "code",
      "source": [
        "import nltk\n",
        "import string\n",
        "import math\n",
        "import numpy\n",
        "import matplotlib\n",
        "\n",
        "sentence1 = \"To be or not to be.\"\n",
        "\n",
        "sentence1Tokens = [word.lower() for word in nltk.word_tokenize(sentence1)]\n",
        "stopwords = nltk.corpus.stopwords.words('english')\n",
        "stemmer = nltk.stem.PorterStemmer()\n",
        "\n",
        "stems = []\n",
        "for token in sentence1Tokens:\n",
        "  # Process each token\n",
        "  if token not in string.punctuation:\n",
        "    if token not in stopwords:\n",
        "      token = stemmer.stem(token)\n",
        "      stems.append(token)\n",
        "print(stems)\n",
        "\n",
        "\n",
        "sentence2 = \"Common words like its, an, the, for, and that, are all considered stop words. While they're important for communicating verbally, stop words typically carry little importance to SEO and are often ignored by search engines.\"\n",
        "\n",
        "sentence2Tokens = [word.lower() for word in nltk.word_tokenize(sentence2)]\n",
        "stopwords = nltk.corpus.stopwords.words('english')\n",
        "stemmer = nltk.stem.PorterStemmer()\n",
        "\n",
        "stems = []\n",
        "for token in sentence2Tokens:\n",
        "  # Process each token\n",
        "  if token not in string.punctuation:\n",
        "    if token not in stopwords:\n",
        "      token = stemmer.stem(token)\n",
        "      stems.append(token)\n",
        "print(stems)\n",
        "\n",
        "from nltk.stem import WordNetLemmatizer\n",
        "lemmatizer = WordNetLemmatizer()\n",
        "lemmas =[]\n",
        "for token in sentence2Tokens:\n",
        "  # Process each token\n",
        "  if token not in string.punctuation:\n",
        "    if token not in stopwords:\n",
        "      lemma = lemmatizer.lemmatize(token)\n",
        "      lemmas.append(lemma)\n",
        "print(lemmas)\n",
        "\n",
        "for token in nltk.word_tokenize(sentence2):\n",
        "    print(token + \" \" +  stemmer.stem(token) + \"  \" + lemmatizer.lemmatize(token))"
      ],
      "metadata": {
        "id": "ha0DDWKHlo7k",
        "outputId": "fc0d3e14-14e0-403c-8567-53c1d89f1acc",
        "colab": {
          "base_uri": "https://localhost:8080/"
        }
      },
      "execution_count": 14,
      "outputs": [
        {
          "output_type": "stream",
          "name": "stdout",
          "text": [
            "[]\n",
            "['common', 'word', 'like', 'consid', 'stop', 'word', \"'re\", 'import', 'commun', 'verbal', 'stop', 'word', 'typic', 'carri', 'littl', 'import', 'seo', 'often', 'ignor', 'search', 'engin']\n",
            "['common', 'word', 'like', 'considered', 'stop', 'word', \"'re\", 'important', 'communicating', 'verbally', 'stop', 'word', 'typically', 'carry', 'little', 'importance', 'seo', 'often', 'ignored', 'search', 'engine']\n",
            "Common common  Common\n",
            "words word  word\n",
            "like like  like\n",
            "its it  it\n",
            ", ,  ,\n",
            "an an  an\n",
            ", ,  ,\n",
            "the the  the\n",
            ", ,  ,\n",
            "for for  for\n",
            ", ,  ,\n",
            "and and  and\n",
            "that that  that\n",
            ", ,  ,\n",
            "are are  are\n",
            "all all  all\n",
            "considered consid  considered\n",
            "stop stop  stop\n",
            "words word  word\n",
            ". .  .\n",
            "While while  While\n",
            "they they  they\n",
            "'re 're  're\n",
            "important import  important\n",
            "for for  for\n",
            "communicating commun  communicating\n",
            "verbally verbal  verbally\n",
            ", ,  ,\n",
            "stop stop  stop\n",
            "words word  word\n",
            "typically typic  typically\n",
            "carry carri  carry\n",
            "little littl  little\n",
            "importance import  importance\n",
            "to to  to\n",
            "SEO seo  SEO\n",
            "and and  and\n",
            "are are  are\n",
            "often often  often\n",
            "ignored ignor  ignored\n",
            "by by  by\n",
            "search search  search\n",
            "engines engin  engine\n",
            ". .  .\n"
          ]
        }
      ]
    },
    {
      "cell_type": "markdown",
      "metadata": {
        "id": "Jtj_zITWRNUE"
      },
      "source": [
        "---\n",
        "# Ejemplo 2\n",
        "\n",
        "Generamos una representación vectorial de un pequeño corpus.\n",
        "\n",
        "Creamos un corpus de juguete.\n",
        "\n"
      ]
    },
    {
      "cell_type": "code",
      "metadata": {
        "id": "Ls_1g7F_ShqV"
      },
      "source": [
        "d1 = \"El río Danubio pasa por Viena, su color es azul.\"\n",
        "d2 = \"El caudal de un río asciende en Invierno.\"\n",
        "d3 = \"El río Rhin y el río Danubio tienen mucho caudal.\"\n",
        "d4 = \"Si un río es navegable, es porque tiene mucho caudal.\"\n",
        "\n",
        "raw_corpus = [d1,d2,d3,d4]"
      ],
      "execution_count": null,
      "outputs": []
    },
    {
      "cell_type": "markdown",
      "metadata": {
        "id": "Us2BaYjQUBNj"
      },
      "source": [
        "Identificamos el conjunto de términos (palabras clave) del corpus y tranformamos a cada documento en una lista de términos. En este caso optamos por eliminar stopwords (en español) pero no aplicaremos stemming."
      ]
    },
    {
      "cell_type": "code",
      "metadata": {
        "id": "RhzJFiaBRiuC"
      },
      "source": [
        "stopwords_spanish = nltk.corpus.stopwords.words('spanish')\n",
        "term_set = set ()\n",
        "corpus =[]\n",
        "for  raw_document in raw_corpus:\n",
        "  tokens_lowercase = [word.lower() for word in nltk.word_tokenize(raw_document)]\n",
        "  terms =[]\n",
        "  for token in tokens_lowercase:\n",
        "    if token not in string.punctuation:\n",
        "      if token not in stopwords_spanish:\n",
        "        terms.append(token)\n",
        "        term_set.add(token)\n",
        "  corpus.append(terms)\n",
        "num_documents = len(corpus)\n",
        "num_terms = len(term_set)"
      ],
      "execution_count": null,
      "outputs": []
    },
    {
      "cell_type": "code",
      "source": [
        "num_terms"
      ],
      "metadata": {
        "id": "-_B2b6dMChJ3",
        "colab": {
          "base_uri": "https://localhost:8080/"
        },
        "outputId": "365d23da-8e98-4f7d-ce7e-949d0ab30f6b"
      },
      "execution_count": null,
      "outputs": [
        {
          "output_type": "execute_result",
          "data": {
            "text/plain": [
              "12"
            ]
          },
          "metadata": {},
          "execution_count": 15
        }
      ]
    },
    {
      "cell_type": "markdown",
      "metadata": {
        "id": "Jr9nUShvWGle"
      },
      "source": [
        "Creamos un mapeo de términos a números (ids)."
      ]
    },
    {
      "cell_type": "code",
      "metadata": {
        "id": "W2jPR9FEV8Gj"
      },
      "source": [
        "term_to_id = {}\n",
        "id = 0\n",
        "for term in term_set:\n",
        "  term_to_id[term] = id\n",
        "  id += 1"
      ],
      "execution_count": null,
      "outputs": []
    },
    {
      "cell_type": "markdown",
      "metadata": {
        "id": "ERA86rNGWFyw"
      },
      "source": [
        "Creamos una matriz TF."
      ]
    },
    {
      "cell_type": "code",
      "metadata": {
        "id": "EYhIuBxGWaYJ"
      },
      "source": [
        "tf_matrix = numpy.zeros((num_documents, num_terms))\n",
        "document_id = 0\n",
        "\n",
        "for document in corpus:\n",
        "  for term in set(document):\n",
        "    term_id = term_to_id[term]\n",
        "    tf_matrix[document_id][term_id] = float(document.count(term))\n",
        "  document_id += 1\n"
      ],
      "execution_count": null,
      "outputs": []
    },
    {
      "cell_type": "markdown",
      "metadata": {
        "id": "uy-5x1bvWq2f"
      },
      "source": [
        "Creamos un vector IDF."
      ]
    },
    {
      "cell_type": "code",
      "metadata": {
        "id": "2axSZxHUWwDw"
      },
      "source": [
        "idf_vector = numpy.zeros(num_terms)\n",
        "for term in term_set:\n",
        "  term_document_frequency = 0\n",
        "  for document in corpus:\n",
        "    if term in document:\n",
        "      term_document_frequency += 1\n",
        "  idf_vector[term_to_id[term]] = math.log(float((num_documents)+ 1) / float(term_document_frequency),10)"
      ],
      "execution_count": null,
      "outputs": []
    },
    {
      "cell_type": "markdown",
      "metadata": {
        "id": "_GD0qV9kZXG2"
      },
      "source": [
        "Creamos la matriz TF-IDF."
      ]
    },
    {
      "cell_type": "code",
      "metadata": {
        "id": "2lBt0efTXevh"
      },
      "source": [
        "tfidf_matrix = numpy.multiply(tf_matrix,idf_vector)"
      ],
      "execution_count": null,
      "outputs": []
    },
    {
      "cell_type": "markdown",
      "metadata": {
        "id": "5FrkkhYjecg4"
      },
      "source": [
        "Normalizamos la matrtiz TF-IDF."
      ]
    },
    {
      "cell_type": "code",
      "metadata": {
        "id": "26qw2DO5egdG"
      },
      "source": [
        "normalized_tfidf_matrix = numpy.zeros((num_documents, num_terms))\n",
        "document_id = 0\n",
        "for document in tfidf_matrix:\n",
        "  document_norm = numpy.linalg.norm(document)\n",
        "  normalized_tfidf_matrix[document_id] = [w/document_norm for w in document]\n",
        "  document_id += 1"
      ],
      "execution_count": null,
      "outputs": []
    },
    {
      "cell_type": "markdown",
      "metadata": {
        "id": "aPrgVpRfoZj4"
      },
      "source": [
        "Mostramos resultados."
      ]
    },
    {
      "cell_type": "code",
      "metadata": {
        "id": "9xkE26XXkD0P",
        "colab": {
          "base_uri": "https://localhost:8080/"
        },
        "outputId": "e4c069e9-e966-4d67-e0db-b2ee2b9afcaf"
      },
      "source": [
        "print(term_to_id)\n",
        "numpy.set_printoptions(precision=3)\n",
        "print('TF')\n",
        "print(tf_matrix)\n",
        "print('IDF')\n",
        "print(idf_vector)\n",
        "print('TF_IDF')\n",
        "print(tfidf_matrix)\n",
        "print('TF_IDF NORMALIZADA')\n",
        "print(normalized_tfidf_matrix)"
      ],
      "execution_count": null,
      "outputs": [
        {
          "output_type": "stream",
          "name": "stdout",
          "text": [
            "{'río': 0, 'si': 1, 'viena': 2, 'asciende': 3, 'azul': 4, 'rhin': 5, 'invierno': 6, 'pasa': 7, 'caudal': 8, 'danubio': 9, 'navegable': 10, 'color': 11}\n",
            "TF\n",
            "[[1. 0. 1. 0. 1. 0. 0. 1. 0. 1. 0. 1.]\n",
            " [1. 0. 0. 1. 0. 0. 1. 0. 1. 0. 0. 0.]\n",
            " [2. 0. 0. 0. 0. 1. 0. 0. 1. 1. 0. 0.]\n",
            " [1. 1. 0. 0. 0. 0. 0. 0. 1. 0. 1. 0.]]\n",
            "IDF\n",
            "[0.097 0.699 0.699 0.699 0.699 0.699 0.699 0.699 0.222 0.398 0.699 0.699]\n",
            "TF_IDF\n",
            "[[0.097 0.    0.699 0.    0.699 0.    0.    0.699 0.    0.398 0.    0.699]\n",
            " [0.097 0.    0.    0.699 0.    0.    0.699 0.    0.222 0.    0.    0.   ]\n",
            " [0.194 0.    0.    0.    0.    0.699 0.    0.    0.222 0.398 0.    0.   ]\n",
            " [0.097 0.699 0.    0.    0.    0.    0.    0.    0.222 0.    0.699 0.   ]]\n",
            "TF_IDF NORMALIZADA\n",
            "[[0.067 0.    0.48  0.    0.48  0.    0.    0.48  0.    0.273 0.    0.48 ]\n",
            " [0.095 0.    0.    0.687 0.    0.    0.687 0.    0.218 0.    0.    0.   ]\n",
            " [0.226 0.    0.    0.    0.    0.816 0.    0.    0.259 0.465 0.    0.   ]\n",
            " [0.095 0.687 0.    0.    0.    0.    0.    0.    0.218 0.    0.687 0.   ]]\n"
          ]
        }
      ]
    },
    {
      "cell_type": "markdown",
      "metadata": {
        "id": "VyE4fU6zZrLF"
      },
      "source": [
        "---\n",
        "# Ejemplo 3\n",
        "Generamos una matriz TF-IDF a partir del corpus \"Inaugural\" provisto por nltk.\n",
        "\n"
      ]
    },
    {
      "cell_type": "markdown",
      "metadata": {
        "id": "9qsgdVD6akWd"
      },
      "source": [
        "Identificamos el conjunto de términos (palabras clave) del corpus y transformamos a cada documento en una lista de términos."
      ]
    },
    {
      "cell_type": "code",
      "metadata": {
        "id": "z5nWF3T1ZD9M",
        "colab": {
          "base_uri": "https://localhost:8080/"
        },
        "outputId": "9f11d3b1-526e-404c-db0b-00cf9f3cd370"
      },
      "source": [
        "corpus = []\n",
        "term_set = set ()\n",
        "filenames = []\n",
        "filename_to_id ={}\n",
        "\n",
        "id = 0\n",
        "for filename in nltk.corpus.inaugural.fileids():\n",
        "  print(filename)\n",
        "  filenames.append(filename)\n",
        "  filename_to_id[filename] = id\n",
        "  raw_document = nltk.corpus.inaugural.raw(filename)\n",
        "  tokens_lowercase = [word.lower() for word in nltk.word_tokenize(raw_document)]\n",
        "  terms =[]\n",
        "  for token in tokens_lowercase:\n",
        "    # Process each token\n",
        "    if token not in string.punctuation:\n",
        "      if token not in stopwords:\n",
        "        token = stemmer.stem(token)\n",
        "        terms.append(token)\n",
        "        term_set.add(token)\n",
        "  corpus.append(terms)\n",
        "  id += 1\n",
        "num_documents = len(corpus)\n",
        "num_terms = len(term_set)"
      ],
      "execution_count": 17,
      "outputs": [
        {
          "output_type": "stream",
          "name": "stdout",
          "text": [
            "1789-Washington.txt\n",
            "1793-Washington.txt\n",
            "1797-Adams.txt\n",
            "1801-Jefferson.txt\n",
            "1805-Jefferson.txt\n",
            "1809-Madison.txt\n",
            "1813-Madison.txt\n",
            "1817-Monroe.txt\n",
            "1821-Monroe.txt\n",
            "1825-Adams.txt\n",
            "1829-Jackson.txt\n",
            "1833-Jackson.txt\n",
            "1837-VanBuren.txt\n",
            "1841-Harrison.txt\n",
            "1845-Polk.txt\n",
            "1849-Taylor.txt\n",
            "1853-Pierce.txt\n",
            "1857-Buchanan.txt\n",
            "1861-Lincoln.txt\n",
            "1865-Lincoln.txt\n",
            "1869-Grant.txt\n",
            "1873-Grant.txt\n",
            "1877-Hayes.txt\n",
            "1881-Garfield.txt\n",
            "1885-Cleveland.txt\n",
            "1889-Harrison.txt\n",
            "1893-Cleveland.txt\n",
            "1897-McKinley.txt\n",
            "1901-McKinley.txt\n",
            "1905-Roosevelt.txt\n",
            "1909-Taft.txt\n",
            "1913-Wilson.txt\n",
            "1917-Wilson.txt\n",
            "1921-Harding.txt\n",
            "1925-Coolidge.txt\n",
            "1929-Hoover.txt\n",
            "1933-Roosevelt.txt\n",
            "1937-Roosevelt.txt\n",
            "1941-Roosevelt.txt\n",
            "1945-Roosevelt.txt\n",
            "1949-Truman.txt\n",
            "1953-Eisenhower.txt\n",
            "1957-Eisenhower.txt\n",
            "1961-Kennedy.txt\n",
            "1965-Johnson.txt\n",
            "1969-Nixon.txt\n",
            "1973-Nixon.txt\n",
            "1977-Carter.txt\n",
            "1981-Reagan.txt\n",
            "1985-Reagan.txt\n",
            "1989-Bush.txt\n",
            "1993-Clinton.txt\n",
            "1997-Clinton.txt\n",
            "2001-Bush.txt\n",
            "2005-Bush.txt\n",
            "2009-Obama.txt\n",
            "2013-Obama.txt\n",
            "2017-Trump.txt\n",
            "2021-Biden.txt\n"
          ]
        }
      ]
    },
    {
      "cell_type": "markdown",
      "metadata": {
        "id": "_75YAGXnapIL"
      },
      "source": [
        "Creamos un mapeo de términos a números (ids)."
      ]
    },
    {
      "cell_type": "code",
      "metadata": {
        "id": "2iQg5SS0z6Rn"
      },
      "source": [
        "term_to_id = {}\n",
        "id = 0\n",
        "for term in term_set:\n",
        "  term_to_id[term] = id\n",
        "  id += 1"
      ],
      "execution_count": 18,
      "outputs": []
    },
    {
      "cell_type": "markdown",
      "metadata": {
        "id": "nsSZ5FAwasWb"
      },
      "source": [
        "Creamos una matriz TF."
      ]
    },
    {
      "cell_type": "code",
      "metadata": {
        "id": "GaY4Tx0E4WRb"
      },
      "source": [
        "tf_matrix = numpy.zeros((num_documents, num_terms))\n",
        "document_id = 0\n",
        "\n",
        "for document in corpus:\n",
        "  for term in set(document):\n",
        "    term_id = term_to_id[term]\n",
        "    tf_matrix[document_id][term_id] = float(document.count(term))\n",
        "  document_id += 1\n"
      ],
      "execution_count": 19,
      "outputs": []
    },
    {
      "cell_type": "markdown",
      "metadata": {
        "id": "mattKtaXav8r"
      },
      "source": [
        "Creamos un vector IDF."
      ]
    },
    {
      "cell_type": "code",
      "metadata": {
        "id": "Nn_oepQm0Ap0"
      },
      "source": [
        "idf_vector = numpy.zeros(num_terms)\n",
        "for term in term_set:\n",
        "  term_document_frequency = 0\n",
        "  for document in corpus:\n",
        "    if term in document:\n",
        "      term_document_frequency += 1\n",
        "  idf_vector[term_to_id[term]] = math.log(float(num_documents) / float(term_document_frequency),10)"
      ],
      "execution_count": 20,
      "outputs": []
    },
    {
      "cell_type": "markdown",
      "metadata": {
        "id": "gk65ICVDa1pD"
      },
      "source": [
        "Creamos la matriz TF-IDF."
      ]
    },
    {
      "cell_type": "code",
      "metadata": {
        "id": "mwx1Fco5-VaA"
      },
      "source": [
        "tfidf_matrix = numpy.multiply(tf_matrix,idf_vector)"
      ],
      "execution_count": 21,
      "outputs": []
    },
    {
      "cell_type": "markdown",
      "metadata": {
        "id": "wHgsYsUap7qd"
      },
      "source": [
        "Normalizamos la matrtiz TF-IDF."
      ]
    },
    {
      "cell_type": "code",
      "metadata": {
        "id": "7ZkAZC4kp8RG"
      },
      "source": [
        "normalized_tfidf_matrix = numpy.zeros((num_documents, num_terms))\n",
        "document_id = 0\n",
        "for document in tfidf_matrix:\n",
        "  document_norm = numpy.linalg.norm(document)\n",
        "  normalized_tfidf_matrix[document_id] = [w/document_norm for w in document]\n",
        "  document_id += 1"
      ],
      "execution_count": 22,
      "outputs": []
    },
    {
      "cell_type": "markdown",
      "metadata": {
        "id": "Lb2SrzsFtTiq"
      },
      "source": [
        "---\n",
        "#Ejemplo 4\n",
        "\n",
        "Determinar qué tan similares son los discursos inagurales de cada presidente de EEUU al de Joe Biden.\n",
        "\n",
        "A partir de la matriz TF-IDF normalizada calculamos la similitud por coseno de cada documento con el documento que representa al discurso de Joe Biden."
      ]
    },
    {
      "cell_type": "code",
      "metadata": {
        "id": "s_HcJV2ELWeq"
      },
      "source": [
        "\n",
        "target_document =  normalized_tfidf_matrix[filename_to_id['2021-Biden.txt']]\n",
        "similarities = numpy.zeros(num_documents)\n",
        "document_id = 0\n",
        "for document in normalized_tfidf_matrix:\n",
        "  similarities[document_id] = numpy.dot(document,target_document)\n",
        "  document_id += 1"
      ],
      "execution_count": 23,
      "outputs": []
    },
    {
      "cell_type": "markdown",
      "metadata": {
        "id": "PmhXsyLyLbHI"
      },
      "source": [
        "Mostramos un gráfico de barras horizontales representando las similitudes calculadas."
      ]
    },
    {
      "cell_type": "code",
      "metadata": {
        "id": "KwjqS9yOLYNx",
        "colab": {
          "base_uri": "https://localhost:8080/",
          "height": 683
        },
        "outputId": "6539595a-c946-497c-e298-8e44acc9e20b"
      },
      "source": [
        "from matplotlib.pyplot import figure\n",
        "figure(num=None, figsize=(5, 10), dpi=80, facecolor='w', edgecolor='k')\n",
        "y_pos = numpy.arange(len(filenames))\n",
        "matplotlib.pyplot.barh(y_pos,similarities,tick_label=filenames)"
      ],
      "execution_count": 24,
      "outputs": [
        {
          "output_type": "execute_result",
          "data": {
            "text/plain": [
              "<BarContainer object of 59 artists>"
            ]
          },
          "metadata": {},
          "execution_count": 24
        },
        {
          "output_type": "display_data",
          "data": {
            "text/plain": [
              "<Figure size 400x800 with 1 Axes>"
            ],
            "image/png": "[encoded data removed]"
          },
          "metadata": {}
        }
      ]
    },
    {
      "cell_type": "markdown",
      "metadata": {
        "id": "QhL-3Dw8Lsd_"
      },
      "source": [
        "---\n",
        "#Ejercicios\n",
        "\n",
        "1.   Repita los pasos del ejemplo 3 sin aplicar stemming e identifique cuál es la palabra clave más representativa (según tfidf) en cada uno de los discursos.\n",
        "2.   Determinar cuál es el par de discursos más similares entre sí y cuál es el par de discursos menos similares entre sí.\n",
        "3.   Dado un texto ingresado por el usario y un umbral de similitud *t*, devolver una lista con los identificadores de archivos de aquellos discursos cuya similitud al texto sea mayor a *t*.  La lista debe estar ordenada de mayor a menor grado de similitud al texto ingresado.\n",
        "4. Tomar [el discurso inagural del presidente Javier Milei traducido al inglés](https://docs.google.com/document/d/1sudCirmOnKlstJa0bB_d3s3b5UEIxVtcGENuzvlnCvo/edit?usp=sharing)  y repetir el ejercicio 3.\n"
      ]
    },
    {
      "cell_type": "code",
      "source": [
        "corpus = []\n",
        "term_set = set ()\n",
        "filenames = []\n",
        "filename_to_id ={}\n",
        "\n",
        "id = 0\n",
        "for filename in nltk.corpus.inaugural.fileids():\n",
        "  #print(filename)\n",
        "  filenames.append(filename)\n",
        "  filename_to_id[filename] = id\n",
        "  raw_document = nltk.corpus.inaugural.raw(filename)\n",
        "  tokens_lowercase = [word.lower() for word in nltk.word_tokenize(raw_document)]\n",
        "  terms =[]\n",
        "  for token in tokens_lowercase:\n",
        "    # Process each token\n",
        "    if token not in string.punctuation:\n",
        "      if token not in stopwords:\n",
        "        # token = stemmer.stem(token) no aplicamos stemming\n",
        "        terms.append(token)\n",
        "        term_set.add(token)\n",
        "  corpus.append(terms)\n",
        "  id += 1\n",
        "num_documents = len(corpus)\n",
        "num_terms = len(term_set)\n",
        "\n",
        "term_to_id = {}\n",
        "id = 0\n",
        "for term in term_set:\n",
        "  term_to_id[term] = id\n",
        "  id += 1\n",
        "\n",
        "tf_matrix = numpy.zeros((num_documents, num_terms))\n",
        "document_id = 0\n",
        "\n",
        "for document in corpus:\n",
        "  for term in set(document):\n",
        "    term_id = term_to_id[term]\n",
        "    tf_matrix[document_id][term_id] = float(document.count(term))\n",
        "  document_id += 1\n",
        "\n",
        "idf_vector = numpy.zeros(num_terms)\n",
        "for term in term_set:\n",
        "  term_document_frequency = 0\n",
        "  for document in corpus:\n",
        "    if term in document:\n",
        "      term_document_frequency += 1\n",
        "  idf_vector[term_to_id[term]] = math.log(float(num_documents) / float(term_document_frequency),10)\n",
        "\n",
        "tfidf_matrix = numpy.multiply(tf_matrix,idf_vector)\n",
        "\n",
        "normalized_tfidf_matrix = numpy.zeros((num_documents, num_terms))\n",
        "document_id = 0\n",
        "for document in tfidf_matrix:\n",
        "  document_norm = numpy.linalg.norm(document)\n",
        "  normalized_tfidf_matrix[document_id] = [w/document_norm for w in document]\n",
        "  document_id += 1\n",
        "\n",
        "document_id = 0\n",
        "highestScoresTermIds = []\n",
        "for document in normalized_tfidf_matrix:\n",
        "  highestScoreTermId = 0\n",
        "  highestScore = 0\n",
        "  termScoreId = 0\n",
        "  for termScore in document:\n",
        "    if (termScore > highestScore):\n",
        "      highestScore = termScore\n",
        "      highestScoreTermId = termScoreId\n",
        "    termScoreId += 1\n",
        "\n",
        "  highestScoresTermIds.append(highestScoreTermId)\n",
        "\n",
        "  document_id += 1\n",
        "\n",
        "terms_array = []\n",
        "for term in term_set:\n",
        "  terms_array.append(term);\n",
        "\n",
        "\n",
        "document_id = 0\n",
        "for filename in filenames:\n",
        "  print(filename + \" - \" + terms_array[highestScoresTermIds[document_id]])\n",
        "  document_id += 1;"
      ],
      "metadata": {
        "id": "UYWJFTEhvGMx",
        "outputId": "5e2f23f4-8aea-4b19-c62f-3b100e17e28c",
        "colab": {
          "base_uri": "https://localhost:8080/"
        }
      },
      "execution_count": 34,
      "outputs": [
        {
          "output_type": "stream",
          "name": "stdout",
          "text": [
            "1789-Washington.txt - impressions\n",
            "1793-Washington.txt - upbraidings\n",
            "1797-Adams.txt - pleasing\n",
            "1801-Jefferson.txt - thousandth\n",
            "1805-Jefferson.txt - whatsoever\n",
            "1809-Madison.txt - improvements\n",
            "1813-Madison.txt - british\n",
            "1817-Monroe.txt - trials\n",
            "1821-Monroe.txt - preceding\n",
            "1825-Adams.txt - union\n",
            "1829-Jackson.txt - diffidence\n",
            "1833-Jackson.txt - inculcate\n",
            "1837-VanBuren.txt - institutions\n",
            "1841-Harrison.txt - roman\n",
            "1845-Polk.txt - texas\n",
            "1849-Taylor.txt - vested\n",
            "1853-Pierce.txt - hardly\n",
            "1857-Buchanan.txt - whilst\n",
            "1861-Lincoln.txt - clause\n",
            "1865-Lincoln.txt - woe\n",
            "1869-Grant.txt - dollar\n",
            "1873-Grant.txt - santo\n",
            "1877-Hayes.txt - behalf\n",
            "1881-Garfield.txt - negro\n",
            "1885-Cleveland.txt - partisan\n",
            "1889-Harrison.txt - ballot\n",
            "1893-Cleveland.txt - frugality\n",
            "1897-McKinley.txt - loans\n",
            "1901-McKinley.txt - cuba\n",
            "1905-Roosevelt.txt - regards\n",
            "1909-Taft.txt - interstate\n",
            "1913-Wilson.txt - familiar\n",
            "1917-Wilson.txt - wished\n",
            "1921-Harding.txt - relationship\n",
            "1925-Coolidge.txt - represents\n",
            "1929-Hoover.txt - enforcement\n",
            "1933-Roosevelt.txt - helped\n",
            "1937-Roosevelt.txt - paint\n",
            "1941-Roosevelt.txt - speaks\n",
            "1945-Roosevelt.txt - learned\n",
            "1949-Truman.txt - program\n",
            "1953-Eisenhower.txt - productivity\n",
            "1957-Eisenhower.txt - strives\n",
            "1961-Kennedy.txt - sides\n",
            "1965-Johnson.txt - covenant\n",
            "1969-Nixon.txt - voices\n",
            "1973-Nixon.txt - role\n",
            "1977-Carter.txt - micah\n",
            "1981-Reagan.txt - heroes\n",
            "1985-Reagan.txt - nuclear\n",
            "1989-Bush.txt - n't\n",
            "1993-Clinton.txt - america\n",
            "1997-Clinton.txt - century\n",
            "2001-Bush.txt - story\n",
            "2005-Bush.txt - america¡¦s\n",
            "2009-Obama.txt - ...\n",
            "2013-Obama.txt - journey\n",
            "2017-Trump.txt - america\n",
            "2021-Biden.txt - 're\n"
          ]
        }
      ]
    },
    {
      "cell_type": "code",
      "source": [
        "matrix = numpy.zeros((num_documents, num_documents))\n",
        "\n",
        "document_idi = 0\n",
        "for documenti in normalized_tfidf_matrix:\n",
        "  document_idj = 0\n",
        "  for documentj in normalized_tfidf_matrix:\n",
        "    if (document_idi != document_idj):\n",
        "      matrix[document_idi, document_idj] = numpy.dot(documenti, documentj)\n",
        "    else:\n",
        "      matrix[document_idi, document_idj] = 0.05\n",
        "    document_idj += 1\n",
        "  document_idi += 1\n",
        "print(matrix)\n",
        "\n",
        "mostSimilarPair = numpy.unravel_index(matrix.argmax(), matrix.shape)\n",
        "leastSimilarPair = numpy.unravel_index(matrix.argmin(), matrix.shape)\n",
        "\n",
        "print(filenames[mostSimilarPair[0]] + \"-\" + filenames[mostSimilarPair[1]])\n",
        "print(filenames[leastSimilarPair[0]] + \"-\" + filenames[leastSimilarPair[1]])"
      ],
      "metadata": {
        "id": "Yz8dv31l2t5U",
        "outputId": "edc024c2-aaba-4d2c-da6e-880718b8eb89",
        "colab": {
          "base_uri": "https://localhost:8080/"
        }
      },
      "execution_count": 50,
      "outputs": [
        {
          "output_type": "stream",
          "name": "stdout",
          "text": [
            "[[0.05       0.04066395 0.09082531 ... 0.02816936 0.01856633 0.03526479]\n",
            " [0.04066395 0.05       0.02546902 ... 0.02512208 0.01987676 0.0181344 ]\n",
            " [0.09082531 0.02546902 0.05       ... 0.0449745  0.03805772 0.03871798]\n",
            " ...\n",
            " [0.02816936 0.02512208 0.0449745  ... 0.05       0.13752855 0.15232726]\n",
            " [0.01856633 0.01987676 0.03805772 ... 0.13752855 0.05       0.17351906]\n",
            " [0.03526479 0.0181344  0.03871798 ... 0.15232726 0.17351906 0.05      ]]\n",
            "1817-Monroe.txt-1821-Monroe.txt\n",
            "1793-Washington.txt-1905-Roosevelt.txt\n"
          ]
        }
      ]
    },
    {
      "cell_type": "markdown",
      "metadata": {
        "id": "camO1mrXR0ZO"
      },
      "source": [
        "\n",
        "\n",
        "---\n",
        "#Ejemplo 5\n",
        "\n",
        "Crear un índice invertido simple.\n"
      ]
    },
    {
      "cell_type": "code",
      "metadata": {
        "id": "hB-3Qx55Wssi"
      },
      "source": [
        "term_to_document_ids ={}\n",
        "for term in term_set:\n",
        "  term_id = term_to_id[term]\n",
        "  document_ids = []\n",
        "  term_column = tf_matrix[:,term_id]\n",
        "  for idx in range(0, len(term_column)):\n",
        "    if term_column[idx] > 0:\n",
        "        document_ids.append(idx)\n",
        "  term_to_document_ids[term] = document_ids;"
      ],
      "execution_count": 38,
      "outputs": []
    },
    {
      "cell_type": "code",
      "source": [
        "term_to_document_ids[\"america\"]\n"
      ],
      "metadata": {
        "id": "kkRJepHNGyTD",
        "outputId": "89e31b28-f119-44e3-f450-1235db922f8d",
        "colab": {
          "base_uri": "https://localhost:8080/"
        }
      },
      "execution_count": 39,
      "outputs": [
        {
          "output_type": "execute_result",
          "data": {
            "text/plain": [
              "[1,\n",
              " 2,\n",
              " 8,\n",
              " 12,\n",
              " 17,\n",
              " 23,\n",
              " 30,\n",
              " 32,\n",
              " 33,\n",
              " 34,\n",
              " 35,\n",
              " 37,\n",
              " 38,\n",
              " 39,\n",
              " 41,\n",
              " 42,\n",
              " 43,\n",
              " 44,\n",
              " 45,\n",
              " 46,\n",
              " 47,\n",
              " 48,\n",
              " 49,\n",
              " 50,\n",
              " 51,\n",
              " 52,\n",
              " 53,\n",
              " 54,\n",
              " 55,\n",
              " 56,\n",
              " 57,\n",
              " 58]"
            ]
          },
          "metadata": {},
          "execution_count": 39
        }
      ]
    },
    {
      "cell_type": "markdown",
      "metadata": {
        "id": "YXfa05WiVqkM"
      },
      "source": [
        "---\n",
        "#Ejercicios\n",
        "\n",
        "5.   Repita el ejercicio 3 haciendo uso del índice (además de utilizar la matriz TF-IDF).\n",
        "6. Identifique las limitaciones del índice invertido simple implementado."
      ]
    }
  ]
}